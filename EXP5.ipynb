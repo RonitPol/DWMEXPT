{
  "nbformat": 4,
  "nbformat_minor": 0,
  "metadata": {
    "colab": {
      "provenance": [],
      "authorship_tag": "ABX9TyPv9lKoSlqEsJ3z9nx8fNDv",
      "include_colab_link": true
    },
    "kernelspec": {
      "name": "python3",
      "display_name": "Python 3"
    },
    "language_info": {
      "name": "python"
    }
  },
  "cells": [
    {
      "cell_type": "markdown",
      "metadata": {
        "id": "view-in-github",
        "colab_type": "text"
      },
      "source": [
        "<a href=\"https://colab.research.google.com/github/RonitPol/DWMEXPT/blob/main/EXP5.ipynb\" target=\"_parent\"><img src=\"https://colab.research.google.com/assets/colab-badge.svg\" alt=\"Open In Colab\"/></a>"
      ]
    },
    {
      "cell_type": "code",
      "execution_count": 1,
      "metadata": {
        "colab": {
          "base_uri": "https://localhost:8080/"
        },
        "id": "cfsqAwXPbpHZ",
        "outputId": "aff4a762-14d1-4441-9800-9d92a8fedeb9"
      },
      "outputs": [
        {
          "output_type": "stream",
          "name": "stdout",
          "text": [
            "[{'milk': 4, 'bread': 5, 'butter': 5}, {('milk', 'bread'): 3, ('milk', 'butter'): 3, ('bread', 'butter'): 4}]\n"
          ]
        }
      ],
      "source": [
        "from itertools import combinations\n",
        "\n",
        "\n",
        "def get_frequent_itemsets(transactions, min_support):\n",
        "    itemsets = {}\n",
        "    for transaction in transactions:\n",
        "        for item in transaction:\n",
        "            if item in itemsets:\n",
        "                itemsets[item] += 1\n",
        "            else:\n",
        "                itemsets[item] = 1\n",
        "\n",
        "    frequent_itemsets = {item: support for item, support in itemsets.items() if support >= min_support}\n",
        "    return frequent_itemsets\n",
        "\n",
        "\n",
        "def get_candidate_itemsets(frequent_itemsets, k):\n",
        "    candidates = []\n",
        "    frequent_items = list(frequent_itemsets.keys())\n",
        "    for combination in combinations(frequent_items, k):\n",
        "        candidates.append(combination)\n",
        "    return candidates\n",
        "\n",
        "def apriori(transactions, min_support):\n",
        "    k = 1\n",
        "\n",
        "    frequent_itemsets = get_frequent_itemsets(transactions, min_support)\n",
        "    all_frequent_itemsets = [frequent_itemsets]\n",
        "\n",
        "    while frequent_itemsets:\n",
        "        k += 1\n",
        "\n",
        "        candidates = get_candidate_itemsets(frequent_itemsets, k)\n",
        "        candidate_supports = {candidate: 0 for candidate in candidates}\n",
        "\n",
        "        for transaction in transactions:\n",
        "            for candidate in candidates:\n",
        "                if set(candidate).issubset(set(transaction)):\n",
        "                    candidate_supports[candidate] += 1\n",
        "\n",
        "        frequent_itemsets = {itemset: support for itemset, support in candidate_supports.items() if support >= min_support}\n",
        "        if frequent_itemsets:\n",
        "            all_frequent_itemsets.append(frequent_itemsets)\n",
        "\n",
        "    return all_frequent_itemsets\n",
        "\n",
        "transactions = [\n",
        "    ['milk', 'bread', 'butter'],\n",
        "    ['bread', 'butter'],\n",
        "    ['milk', 'bread'],\n",
        "    ['milk', 'butter'],\n",
        "    ['bread', 'butter'],\n",
        "    ['milk', 'bread', 'butter']\n",
        "]\n",
        "\n",
        "min_support = 2\n",
        "frequent_itemsets = apriori(transactions, min_support)\n",
        "print(frequent_itemsets)\n"
      ]
    }
  ]
}